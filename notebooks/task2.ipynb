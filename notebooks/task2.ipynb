{
 "cells": [
  {
   "cell_type": "code",
   "execution_count": 1,
   "id": "75dcc7c8-4261-4378-ad56-5abd5cbe9096",
   "metadata": {},
   "outputs": [],
   "source": [
    "import pandas as pd\n",
    "import numpy as np\n",
    "import matplotlib.pyplot as plt\n",
    "from sklearn.linear_model import LogisticRegression\n",
    "from sklearn.svm import SVC\n",
    "from sklearn.naive_bayes import GaussianNB\n",
    "from sklearn.tree import DecisionTreeClassifier\n",
    "from sklearn import neighbors"
   ]
  },
  {
   "cell_type": "code",
   "execution_count": 4,
   "id": "b28ae8ae",
   "metadata": {},
   "outputs": [
    {
     "data": {
      "text/html": [
       "<div>\n",
       "<style scoped>\n",
       "    .dataframe tbody tr th:only-of-type {\n",
       "        vertical-align: middle;\n",
       "    }\n",
       "\n",
       "    .dataframe tbody tr th {\n",
       "        vertical-align: top;\n",
       "    }\n",
       "\n",
       "    .dataframe thead th {\n",
       "        text-align: right;\n",
       "    }\n",
       "</style>\n",
       "<table border=\"1\" class=\"dataframe\">\n",
       "  <thead>\n",
       "    <tr style=\"text-align: right;\">\n",
       "      <th></th>\n",
       "      <th>T1</th>\n",
       "      <th>T2</th>\n",
       "      <th>T3</th>\n",
       "      <th>T4</th>\n",
       "      <th>T5</th>\n",
       "      <th>T6</th>\n",
       "      <th>T7</th>\n",
       "      <th>T8</th>\n",
       "      <th>T9</th>\n",
       "      <th>T10</th>\n",
       "      <th>T11</th>\n",
       "      <th>T12</th>\n",
       "      <th>T13</th>\n",
       "      <th>T14</th>\n",
       "      <th>T15</th>\n",
       "      <th>T16</th>\n",
       "      <th>T17</th>\n",
       "      <th>T18</th>\n",
       "      <th>target</th>\n",
       "    </tr>\n",
       "  </thead>\n",
       "  <tbody>\n",
       "    <tr>\n",
       "      <th>0</th>\n",
       "      <td>-70</td>\n",
       "      <td>-61</td>\n",
       "      <td>-66</td>\n",
       "      <td>-53</td>\n",
       "      <td>-51</td>\n",
       "      <td>-63</td>\n",
       "      <td>-82</td>\n",
       "      <td>-57</td>\n",
       "      <td>-76</td>\n",
       "      <td>-78</td>\n",
       "      <td>-66</td>\n",
       "      <td>-66</td>\n",
       "      <td>-61</td>\n",
       "      <td>-59</td>\n",
       "      <td>-73</td>\n",
       "      <td>-75</td>\n",
       "      <td>-63</td>\n",
       "      <td>-77</td>\n",
       "      <td>B37</td>\n",
       "    </tr>\n",
       "    <tr>\n",
       "      <th>1</th>\n",
       "      <td>-77</td>\n",
       "      <td>-74</td>\n",
       "      <td>-71</td>\n",
       "      <td>-76</td>\n",
       "      <td>-65</td>\n",
       "      <td>-63</td>\n",
       "      <td>-66</td>\n",
       "      <td>-52</td>\n",
       "      <td>-55</td>\n",
       "      <td>-75</td>\n",
       "      <td>-72</td>\n",
       "      <td>-75</td>\n",
       "      <td>-74</td>\n",
       "      <td>-61</td>\n",
       "      <td>-64</td>\n",
       "      <td>-63</td>\n",
       "      <td>-53</td>\n",
       "      <td>-63</td>\n",
       "      <td>B61</td>\n",
       "    </tr>\n",
       "    <tr>\n",
       "      <th>2</th>\n",
       "      <td>-53</td>\n",
       "      <td>-38</td>\n",
       "      <td>-55</td>\n",
       "      <td>-66</td>\n",
       "      <td>-62</td>\n",
       "      <td>-62</td>\n",
       "      <td>-65</td>\n",
       "      <td>-70</td>\n",
       "      <td>-62</td>\n",
       "      <td>-52</td>\n",
       "      <td>-56</td>\n",
       "      <td>-53</td>\n",
       "      <td>-66</td>\n",
       "      <td>-68</td>\n",
       "      <td>-72</td>\n",
       "      <td>-60</td>\n",
       "      <td>-68</td>\n",
       "      <td>-77</td>\n",
       "      <td>A19</td>\n",
       "    </tr>\n",
       "    <tr>\n",
       "      <th>3</th>\n",
       "      <td>-72</td>\n",
       "      <td>-62</td>\n",
       "      <td>-59</td>\n",
       "      <td>-65</td>\n",
       "      <td>-65</td>\n",
       "      <td>-65</td>\n",
       "      <td>-78</td>\n",
       "      <td>-82</td>\n",
       "      <td>-83</td>\n",
       "      <td>-59</td>\n",
       "      <td>-84</td>\n",
       "      <td>-60</td>\n",
       "      <td>-64</td>\n",
       "      <td>-83</td>\n",
       "      <td>-69</td>\n",
       "      <td>-72</td>\n",
       "      <td>-95</td>\n",
       "      <td>-73</td>\n",
       "      <td>A22</td>\n",
       "    </tr>\n",
       "    <tr>\n",
       "      <th>4</th>\n",
       "      <td>-67</td>\n",
       "      <td>-69</td>\n",
       "      <td>-65</td>\n",
       "      <td>-63</td>\n",
       "      <td>-59</td>\n",
       "      <td>-53</td>\n",
       "      <td>-70</td>\n",
       "      <td>-72</td>\n",
       "      <td>-71</td>\n",
       "      <td>-60</td>\n",
       "      <td>-61</td>\n",
       "      <td>-57</td>\n",
       "      <td>-54</td>\n",
       "      <td>-76</td>\n",
       "      <td>-61</td>\n",
       "      <td>-66</td>\n",
       "      <td>-71</td>\n",
       "      <td>-80</td>\n",
       "      <td>A33</td>\n",
       "    </tr>\n",
       "  </tbody>\n",
       "</table>\n",
       "</div>"
      ],
      "text/plain": [
       "   T1  T2  T3  T4  T5  T6  T7  T8  T9  T10  T11  T12  T13  T14  T15  T16  T17  \\\n",
       "0 -70 -61 -66 -53 -51 -63 -82 -57 -76  -78  -66  -66  -61  -59  -73  -75  -63   \n",
       "1 -77 -74 -71 -76 -65 -63 -66 -52 -55  -75  -72  -75  -74  -61  -64  -63  -53   \n",
       "2 -53 -38 -55 -66 -62 -62 -65 -70 -62  -52  -56  -53  -66  -68  -72  -60  -68   \n",
       "3 -72 -62 -59 -65 -65 -65 -78 -82 -83  -59  -84  -60  -64  -83  -69  -72  -95   \n",
       "4 -67 -69 -65 -63 -59 -53 -70 -72 -71  -60  -61  -57  -54  -76  -61  -66  -71   \n",
       "\n",
       "   T18 target  \n",
       "0  -77    B37  \n",
       "1  -63    B61  \n",
       "2  -77    A19  \n",
       "3  -73    A22  \n",
       "4  -80    A33  "
      ]
     },
     "execution_count": 4,
     "metadata": {},
     "output_type": "execute_result"
    }
   ],
   "source": [
    "data = pd.read_excel(\"../sheets/train.xlsx\")\n",
    "data.head()"
   ]
  },
  {
   "cell_type": "code",
   "execution_count": 5,
   "id": "eff40a63",
   "metadata": {},
   "outputs": [
    {
     "data": {
      "text/html": [
       "<div>\n",
       "<style scoped>\n",
       "    .dataframe tbody tr th:only-of-type {\n",
       "        vertical-align: middle;\n",
       "    }\n",
       "\n",
       "    .dataframe tbody tr th {\n",
       "        vertical-align: top;\n",
       "    }\n",
       "\n",
       "    .dataframe thead th {\n",
       "        text-align: right;\n",
       "    }\n",
       "</style>\n",
       "<table border=\"1\" class=\"dataframe\">\n",
       "  <thead>\n",
       "    <tr style=\"text-align: right;\">\n",
       "      <th></th>\n",
       "      <th>T1</th>\n",
       "      <th>T2</th>\n",
       "      <th>T3</th>\n",
       "      <th>T4</th>\n",
       "      <th>T5</th>\n",
       "      <th>T6</th>\n",
       "      <th>T7</th>\n",
       "      <th>T8</th>\n",
       "      <th>T9</th>\n",
       "      <th>T10</th>\n",
       "      <th>T11</th>\n",
       "      <th>T12</th>\n",
       "      <th>T13</th>\n",
       "      <th>T14</th>\n",
       "      <th>T15</th>\n",
       "      <th>T16</th>\n",
       "      <th>T17</th>\n",
       "      <th>T18</th>\n",
       "    </tr>\n",
       "  </thead>\n",
       "  <tbody>\n",
       "    <tr>\n",
       "      <th>count</th>\n",
       "      <td>36752.000000</td>\n",
       "      <td>36752.000000</td>\n",
       "      <td>36752.000000</td>\n",
       "      <td>36752.000000</td>\n",
       "      <td>36752.000000</td>\n",
       "      <td>36752.000000</td>\n",
       "      <td>36752.000000</td>\n",
       "      <td>36752.000000</td>\n",
       "      <td>36752.000000</td>\n",
       "      <td>36752.000000</td>\n",
       "      <td>36752.000000</td>\n",
       "      <td>36752.000000</td>\n",
       "      <td>36752.000000</td>\n",
       "      <td>36752.000000</td>\n",
       "      <td>36752.000000</td>\n",
       "      <td>36752.000000</td>\n",
       "      <td>36752.000000</td>\n",
       "      <td>36752.000000</td>\n",
       "    </tr>\n",
       "    <tr>\n",
       "      <th>mean</th>\n",
       "      <td>-65.865449</td>\n",
       "      <td>-64.521931</td>\n",
       "      <td>-64.574472</td>\n",
       "      <td>-65.296474</td>\n",
       "      <td>-64.462152</td>\n",
       "      <td>-63.318731</td>\n",
       "      <td>-67.030202</td>\n",
       "      <td>-66.591260</td>\n",
       "      <td>-65.692479</td>\n",
       "      <td>-65.555181</td>\n",
       "      <td>-65.681922</td>\n",
       "      <td>-66.244204</td>\n",
       "      <td>-63.962614</td>\n",
       "      <td>-64.399080</td>\n",
       "      <td>-64.550011</td>\n",
       "      <td>-64.136782</td>\n",
       "      <td>-65.910726</td>\n",
       "      <td>-66.590417</td>\n",
       "    </tr>\n",
       "    <tr>\n",
       "      <th>std</th>\n",
       "      <td>8.737286</td>\n",
       "      <td>8.914559</td>\n",
       "      <td>8.154517</td>\n",
       "      <td>8.142803</td>\n",
       "      <td>8.068375</td>\n",
       "      <td>8.651501</td>\n",
       "      <td>9.257529</td>\n",
       "      <td>10.160193</td>\n",
       "      <td>10.598247</td>\n",
       "      <td>10.408147</td>\n",
       "      <td>9.453958</td>\n",
       "      <td>8.866239</td>\n",
       "      <td>8.254217</td>\n",
       "      <td>9.562839</td>\n",
       "      <td>9.207343</td>\n",
       "      <td>10.540542</td>\n",
       "      <td>10.071973</td>\n",
       "      <td>10.600992</td>\n",
       "    </tr>\n",
       "    <tr>\n",
       "      <th>min</th>\n",
       "      <td>-95.000000</td>\n",
       "      <td>-95.000000</td>\n",
       "      <td>-95.000000</td>\n",
       "      <td>-95.000000</td>\n",
       "      <td>-95.000000</td>\n",
       "      <td>-95.000000</td>\n",
       "      <td>-95.000000</td>\n",
       "      <td>-95.000000</td>\n",
       "      <td>-95.000000</td>\n",
       "      <td>-95.000000</td>\n",
       "      <td>-95.000000</td>\n",
       "      <td>-95.000000</td>\n",
       "      <td>-95.000000</td>\n",
       "      <td>-95.000000</td>\n",
       "      <td>-95.000000</td>\n",
       "      <td>-95.000000</td>\n",
       "      <td>-95.000000</td>\n",
       "      <td>-95.000000</td>\n",
       "    </tr>\n",
       "    <tr>\n",
       "      <th>25%</th>\n",
       "      <td>-72.000000</td>\n",
       "      <td>-70.000000</td>\n",
       "      <td>-70.000000</td>\n",
       "      <td>-70.000000</td>\n",
       "      <td>-69.000000</td>\n",
       "      <td>-69.000000</td>\n",
       "      <td>-74.000000</td>\n",
       "      <td>-75.000000</td>\n",
       "      <td>-73.000000</td>\n",
       "      <td>-73.000000</td>\n",
       "      <td>-71.000000</td>\n",
       "      <td>-72.000000</td>\n",
       "      <td>-69.000000</td>\n",
       "      <td>-70.000000</td>\n",
       "      <td>-70.000000</td>\n",
       "      <td>-71.000000</td>\n",
       "      <td>-72.000000</td>\n",
       "      <td>-74.000000</td>\n",
       "    </tr>\n",
       "    <tr>\n",
       "      <th>50%</th>\n",
       "      <td>-66.000000</td>\n",
       "      <td>-65.000000</td>\n",
       "      <td>-64.000000</td>\n",
       "      <td>-66.000000</td>\n",
       "      <td>-65.000000</td>\n",
       "      <td>-63.000000</td>\n",
       "      <td>-66.000000</td>\n",
       "      <td>-66.000000</td>\n",
       "      <td>-65.000000</td>\n",
       "      <td>-65.000000</td>\n",
       "      <td>-65.000000</td>\n",
       "      <td>-66.000000</td>\n",
       "      <td>-63.000000</td>\n",
       "      <td>-64.000000</td>\n",
       "      <td>-65.000000</td>\n",
       "      <td>-63.000000</td>\n",
       "      <td>-65.000000</td>\n",
       "      <td>-66.000000</td>\n",
       "    </tr>\n",
       "    <tr>\n",
       "      <th>75%</th>\n",
       "      <td>-61.000000</td>\n",
       "      <td>-59.000000</td>\n",
       "      <td>-59.000000</td>\n",
       "      <td>-61.000000</td>\n",
       "      <td>-59.000000</td>\n",
       "      <td>-57.000000</td>\n",
       "      <td>-60.000000</td>\n",
       "      <td>-59.000000</td>\n",
       "      <td>-58.000000</td>\n",
       "      <td>-58.000000</td>\n",
       "      <td>-59.000000</td>\n",
       "      <td>-61.000000</td>\n",
       "      <td>-58.000000</td>\n",
       "      <td>-58.000000</td>\n",
       "      <td>-58.000000</td>\n",
       "      <td>-57.000000</td>\n",
       "      <td>-59.000000</td>\n",
       "      <td>-59.000000</td>\n",
       "    </tr>\n",
       "    <tr>\n",
       "      <th>max</th>\n",
       "      <td>-41.000000</td>\n",
       "      <td>-37.000000</td>\n",
       "      <td>-41.000000</td>\n",
       "      <td>-39.000000</td>\n",
       "      <td>-36.000000</td>\n",
       "      <td>-39.000000</td>\n",
       "      <td>-45.000000</td>\n",
       "      <td>-39.000000</td>\n",
       "      <td>-39.000000</td>\n",
       "      <td>-37.000000</td>\n",
       "      <td>-40.000000</td>\n",
       "      <td>-43.000000</td>\n",
       "      <td>-43.000000</td>\n",
       "      <td>-39.000000</td>\n",
       "      <td>-38.000000</td>\n",
       "      <td>-40.000000</td>\n",
       "      <td>-43.000000</td>\n",
       "      <td>-39.000000</td>\n",
       "    </tr>\n",
       "  </tbody>\n",
       "</table>\n",
       "</div>"
      ],
      "text/plain": [
       "                 T1            T2            T3            T4            T5  \\\n",
       "count  36752.000000  36752.000000  36752.000000  36752.000000  36752.000000   \n",
       "mean     -65.865449    -64.521931    -64.574472    -65.296474    -64.462152   \n",
       "std        8.737286      8.914559      8.154517      8.142803      8.068375   \n",
       "min      -95.000000    -95.000000    -95.000000    -95.000000    -95.000000   \n",
       "25%      -72.000000    -70.000000    -70.000000    -70.000000    -69.000000   \n",
       "50%      -66.000000    -65.000000    -64.000000    -66.000000    -65.000000   \n",
       "75%      -61.000000    -59.000000    -59.000000    -61.000000    -59.000000   \n",
       "max      -41.000000    -37.000000    -41.000000    -39.000000    -36.000000   \n",
       "\n",
       "                 T6            T7            T8            T9           T10  \\\n",
       "count  36752.000000  36752.000000  36752.000000  36752.000000  36752.000000   \n",
       "mean     -63.318731    -67.030202    -66.591260    -65.692479    -65.555181   \n",
       "std        8.651501      9.257529     10.160193     10.598247     10.408147   \n",
       "min      -95.000000    -95.000000    -95.000000    -95.000000    -95.000000   \n",
       "25%      -69.000000    -74.000000    -75.000000    -73.000000    -73.000000   \n",
       "50%      -63.000000    -66.000000    -66.000000    -65.000000    -65.000000   \n",
       "75%      -57.000000    -60.000000    -59.000000    -58.000000    -58.000000   \n",
       "max      -39.000000    -45.000000    -39.000000    -39.000000    -37.000000   \n",
       "\n",
       "                T11           T12           T13           T14           T15  \\\n",
       "count  36752.000000  36752.000000  36752.000000  36752.000000  36752.000000   \n",
       "mean     -65.681922    -66.244204    -63.962614    -64.399080    -64.550011   \n",
       "std        9.453958      8.866239      8.254217      9.562839      9.207343   \n",
       "min      -95.000000    -95.000000    -95.000000    -95.000000    -95.000000   \n",
       "25%      -71.000000    -72.000000    -69.000000    -70.000000    -70.000000   \n",
       "50%      -65.000000    -66.000000    -63.000000    -64.000000    -65.000000   \n",
       "75%      -59.000000    -61.000000    -58.000000    -58.000000    -58.000000   \n",
       "max      -40.000000    -43.000000    -43.000000    -39.000000    -38.000000   \n",
       "\n",
       "                T16           T17           T18  \n",
       "count  36752.000000  36752.000000  36752.000000  \n",
       "mean     -64.136782    -65.910726    -66.590417  \n",
       "std       10.540542     10.071973     10.600992  \n",
       "min      -95.000000    -95.000000    -95.000000  \n",
       "25%      -71.000000    -72.000000    -74.000000  \n",
       "50%      -63.000000    -65.000000    -66.000000  \n",
       "75%      -57.000000    -59.000000    -59.000000  \n",
       "max      -40.000000    -43.000000    -39.000000  "
      ]
     },
     "execution_count": 5,
     "metadata": {},
     "output_type": "execute_result"
    }
   ],
   "source": [
    "data.describe()"
   ]
  },
  {
   "cell_type": "code",
   "execution_count": 6,
   "id": "8a4803a8",
   "metadata": {},
   "outputs": [
    {
     "data": {
      "text/plain": [
       "T1        0\n",
       "T2        0\n",
       "T3        0\n",
       "T4        0\n",
       "T5        0\n",
       "T6        0\n",
       "T7        0\n",
       "T8        0\n",
       "T9        0\n",
       "T10       0\n",
       "T11       0\n",
       "T12       0\n",
       "T13       0\n",
       "T14       0\n",
       "T15       0\n",
       "T16       0\n",
       "T17       0\n",
       "T18       0\n",
       "target    0\n",
       "dtype: int64"
      ]
     },
     "execution_count": 6,
     "metadata": {},
     "output_type": "execute_result"
    }
   ],
   "source": [
    "data.isnull().sum()"
   ]
  },
  {
   "cell_type": "code",
   "execution_count": 7,
   "id": "24ca2514",
   "metadata": {},
   "outputs": [
    {
     "data": {
      "text/plain": [
       "(36752,)"
      ]
     },
     "execution_count": 7,
     "metadata": {},
     "output_type": "execute_result"
    }
   ],
   "source": [
    "X = data.drop('target', axis=1)\n",
    "y = data['target']\n",
    "\n",
    "y.shape"
   ]
  },
  {
   "cell_type": "code",
   "execution_count": 8,
   "id": "16ecee8d",
   "metadata": {},
   "outputs": [
    {
     "name": "stderr",
     "output_type": "stream",
     "text": [
      "/usr/lib/python3/dist-packages/sklearn/linear_model/_logistic.py:458: ConvergenceWarning: lbfgs failed to converge (status=1):\n",
      "STOP: TOTAL NO. of ITERATIONS REACHED LIMIT.\n",
      "\n",
      "Increase the number of iterations (max_iter) or scale the data as shown in:\n",
      "    https://scikit-learn.org/stable/modules/preprocessing.html\n",
      "Please also refer to the documentation for alternative solver options:\n",
      "    https://scikit-learn.org/stable/modules/linear_model.html#logistic-regression\n",
      "  n_iter_i = _check_optimize_result(\n"
     ]
    },
    {
     "data": {
      "text/plain": [
       "0.9651175446234218"
      ]
     },
     "execution_count": 8,
     "metadata": {},
     "output_type": "execute_result"
    }
   ],
   "source": [
    "logisticRegressionModel = LogisticRegression()\n",
    "logisticRegressionModel.fit(X, y)\n",
    "logisticRegressionModel.score(X, y)"
   ]
  },
  {
   "cell_type": "code",
   "execution_count": 9,
   "id": "b42c543e",
   "metadata": {},
   "outputs": [
    {
     "data": {
      "text/plain": [
       "0.9975783630822812"
      ]
     },
     "execution_count": 9,
     "metadata": {},
     "output_type": "execute_result"
    }
   ],
   "source": [
    "svmModel = SVC(gamma='auto', kernel ='rbf')\n",
    "svmModel.fit(X, y)\n",
    "svmModel.score(X, y)"
   ]
  },
  {
   "cell_type": "code",
   "execution_count": 13,
   "id": "7f2ee9aa",
   "metadata": {},
   "outputs": [
    {
     "data": {
      "text/plain": [
       "0.9611721811057902"
      ]
     },
     "execution_count": 13,
     "metadata": {},
     "output_type": "execute_result"
    }
   ],
   "source": [
    "nbModel = GaussianNB()\n",
    "nbModel.fit(X, y)\n",
    "nbModel.score(X, y)"
   ]
  },
  {
   "cell_type": "code",
   "execution_count": 10,
   "id": "e3543612",
   "metadata": {},
   "outputs": [
    {
     "data": {
      "text/plain": [
       "0.9994286025250326"
      ]
     },
     "execution_count": 10,
     "metadata": {},
     "output_type": "execute_result"
    }
   ],
   "source": [
    "treeModel = DecisionTreeClassifier()\n",
    "treeModel.fit(X, y)\n",
    "treeModel.score(X, y)"
   ]
  },
  {
   "cell_type": "code",
   "execution_count": 11,
   "id": "dd56e8f3",
   "metadata": {},
   "outputs": [
    {
     "data": {
      "text/plain": [
       "0.9904767087505442"
      ]
     },
     "execution_count": 11,
     "metadata": {},
     "output_type": "execute_result"
    }
   ],
   "source": [
    "KNNModel = neighbors.KNeighborsClassifier()\n",
    "KNNModel.fit(X, y)\n",
    "KNNModel.score(X, y)"
   ]
  },
  {
   "cell_type": "code",
   "execution_count": 17,
   "id": "e6733ebe",
   "metadata": {},
   "outputs": [],
   "source": [
    "import pickle\n",
    "pickle.dump(svmModel, open(\"svmModel.pkl\", \"wb\"))\n",
    "pickle.dump(treeModel, open(\"treeModel.pkl\", \"wb\"))\n",
    "pickle.dump(KNNModel, open(\"KNNModel.pkl\", \"wb\"))"
   ]
  },
  {
   "cell_type": "code",
   "execution_count": 15,
   "id": "95ca4b66",
   "metadata": {},
   "outputs": [
    {
     "data": {
      "text/plain": [
       "array(['B74', 'A25', 'B65', ..., 'B69', 'A38', 'A25'], dtype=object)"
      ]
     },
     "execution_count": 15,
     "metadata": {},
     "output_type": "execute_result"
    }
   ],
   "source": [
    "test = pd.read_excel(\"../sheets/test.xlsx\")\n",
    "svmModelRes = svmModel.predict(test)\n",
    "svmModelRes"
   ]
  },
  {
   "cell_type": "code",
   "execution_count": 19,
   "id": "b1d06396",
   "metadata": {},
   "outputs": [],
   "source": [
    "df = pd.DataFrame(svmModelRes.reshape(-1,1))\n",
    "df.to_excel(\"../sheets/svmModelRes.xlsx\")"
   ]
  },
  {
   "cell_type": "code",
   "execution_count": 20,
   "id": "8821bd44",
   "metadata": {},
   "outputs": [],
   "source": [
    "treeModelRes = treeModel.predict(test)\n",
    "df = pd.DataFrame(treeModelRes.reshape(-1,1))\n",
    "df.to_excel(\"../sheets/treeModelRes.xlsx\")"
   ]
  },
  {
   "cell_type": "code",
   "execution_count": 21,
   "id": "6fa956bf",
   "metadata": {},
   "outputs": [],
   "source": [
    "KNNModelRes = KNNModel.predict(test)\n",
    "df = pd.DataFrame(KNNModelRes.reshape(-1,1))\n",
    "df.to_excel(\"../sheets/KNNModelRes.xlsx\")"
   ]
  }
 ],
 "metadata": {
  "kernelspec": {
   "display_name": "Python 3 (ipykernel)",
   "language": "python",
   "name": "python3"
  },
  "language_info": {
   "codemirror_mode": {
    "name": "ipython",
    "version": 3
   },
   "file_extension": ".py",
   "mimetype": "text/x-python",
   "name": "python",
   "nbconvert_exporter": "python",
   "pygments_lexer": "ipython3",
   "version": "3.11.6"
  }
 },
 "nbformat": 4,
 "nbformat_minor": 5
}
